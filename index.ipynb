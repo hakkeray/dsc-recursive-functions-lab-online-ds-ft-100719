{
 "cells": [
  {
   "cell_type": "markdown",
   "metadata": {},
   "source": [
    "# Recursive Functions - Lab\n",
    "\n",
    "## Introduction\n",
    "\n",
    "Now that you've seen a little preview of recursive functions, it's time to give them a try!\n",
    "\n",
    "## Objectives\n",
    "\n",
    "You will be able to:\n",
    "\n",
    "* Describe the concept of a recursive function\n",
    "* Create a recursive function\n",
    "* Demonstrate how local scope changes with recursive functions\n",
    "* Compare depth first versus breadth first searches\n",
    "\n",
    "## Fibonacci\n",
    "\n",
    "The Fibonacci sequence starts off:\n",
    "1,1,2,3,5,8,13,21,34,...\n",
    "\n",
    "Each number is the sum of the two preceding. Write a recursive function that calculates the nth number of the Fibonacci sequence. For example, our sequence above would correspond to:\n",
    "\n",
    "fib(1) = 1 #The 1st element in the sequence is 1\n",
    "\n",
    "fib(2) = 1 #The 2nd element in the sequence is 1\n",
    "\n",
    "fib(3) = 2 #The 3rd element in the sequence is 2\n",
    "\n",
    "fib(4) = 3 #The 4th element in the sequence is 3\n",
    "\n",
    "fib(5) = 5 #The 5th element in the sequence is 5\n",
    "\n",
    "fib(6) = 8 #The 6th element in the sequence is 8\n",
    "\n",
    "fib(7) = 13 #The 7th element in the sequence is 13\n",
    "\n",
    "fib(8) = 21 #The 8th element in the sequence is 21\n",
    "\n",
    "fib(9) = 34 #The 9th element in the sequence is 34"
   ]
  },
  {
   "cell_type": "code",
   "execution_count": 1,
   "metadata": {},
   "outputs": [],
   "source": [
    "#Your code here\n",
    "def fib(n):\n",
    "    if n < 1:\n",
    "        return \"N must be greater than 1\"\n",
    "    elif n in [1,2]:\n",
    "        return 1\n",
    "    else: \n",
    "        return fib(n-1) + fib(n-2)"
   ]
  },
  {
   "cell_type": "code",
   "execution_count": 2,
   "metadata": {},
   "outputs": [
    {
     "data": {
      "text/plain": [
       "'N must be greater than 1'"
      ]
     },
     "execution_count": 2,
     "metadata": {},
     "output_type": "execute_result"
    }
   ],
   "source": [
    "fib(0)"
   ]
  },
  {
   "cell_type": "code",
   "execution_count": 3,
   "metadata": {},
   "outputs": [
    {
     "data": {
      "text/plain": [
       "21"
      ]
     },
     "execution_count": 3,
     "metadata": {},
     "output_type": "execute_result"
    }
   ],
   "source": [
    "fib(8)"
   ]
  },
  {
   "cell_type": "code",
   "execution_count": 4,
   "metadata": {},
   "outputs": [
    {
     "data": {
      "text/plain": [
       "3"
      ]
     },
     "execution_count": 4,
     "metadata": {},
     "output_type": "execute_result"
    }
   ],
   "source": [
    "fib(4)"
   ]
  },
  {
   "cell_type": "code",
   "execution_count": 5,
   "metadata": {},
   "outputs": [
    {
     "name": "stdout",
     "output_type": "stream",
     "text": [
      "1\n",
      "1\n",
      "2\n",
      "3\n",
      "5\n",
      "8\n",
      "13\n",
      "21\n",
      "34\n"
     ]
    }
   ],
   "source": [
    "for i in range(1,10):\n",
    "    print(fib(i))"
   ]
  },
  {
   "cell_type": "markdown",
   "metadata": {},
   "source": [
    "## Flat List\n",
    "\n",
    "Write a function that takes a nested list and flattens it to a list of ints, floats and strings.\n",
    "For example the nested list [1,[2,3[4,5,6]], 7, [8], [9,10]] would become [1,2,3,4,5,6,7,8,9,10] or \n",
    "[1,2[3,4,[5]]] would become [1,2,3,4,5].\n",
    "\n",
    "> **Note**: Be careful how you initialize your function! See [this link](https://docs.quantifiedcode.com/python-anti-patterns/correctness/mutable_default_value_as_argument.html) for some potential pitfalls you could encounter if you're not careful!"
   ]
  },
  {
   "cell_type": "code",
   "execution_count": 20,
   "metadata": {},
   "outputs": [],
   "source": [
    "def flat_list(L, flattened=None, show=True):\n",
    "    if flattened is None:\n",
    "        flattened = []\n",
    "    if show:\n",
    "        print('L: ', L)\n",
    "    for x in L:\n",
    "        if type(x) == list:\n",
    "            flat_list(x, flattened)\n",
    "        else:\n",
    "            flattened.append(x)\n",
    "    return flattened"
   ]
  },
  {
   "cell_type": "code",
   "execution_count": 21,
   "metadata": {},
   "outputs": [
    {
     "name": "stdout",
     "output_type": "stream",
     "text": [
      "L:  [1, [2, 3, [4, 5, 6]], 7, [8], [9, 10]]\n",
      "L:  [2, 3, [4, 5, 6]]\n",
      "L:  [4, 5, 6]\n",
      "L:  [8]\n",
      "L:  [9, 10]\n"
     ]
    },
    {
     "data": {
      "text/plain": [
       "[1, 2, 3, 4, 5, 6, 7, 8, 9, 10]"
      ]
     },
     "execution_count": 21,
     "metadata": {},
     "output_type": "execute_result"
    }
   ],
   "source": [
    "L = [1, [2,3, [4,5,6]], 7, [8], [9,10]] \n",
    "flat_list(L)"
   ]
  },
  {
   "cell_type": "markdown",
   "metadata": {},
   "source": [
    "## Depth vs Breadth First Search\n",
    "\n",
    "Did you use breadth or depth first recursive calls above? Explain."
   ]
  },
  {
   "cell_type": "markdown",
   "metadata": {},
   "source": [
    "depth first approach; when flat_list hit the second item which was a nested list, it continued all the way down the rabbit hole before moving on. A breadth first search would be if the function processed everything at the first level, putting nested lists on hold till later."
   ]
  },
  {
   "cell_type": "code",
   "execution_count": 22,
   "metadata": {},
   "outputs": [],
   "source": [
    "# same function rewritten as breadth first search\n",
    "\n",
    "def flat_list2(L, tot=0, show=True):\n",
    "    print(L)\n",
    "    deeper_data = [] #Initialize a container for nested data\n",
    "\n",
    "    if show:\n",
    "        print('L: ', L)\n",
    "        \n",
    "    #Process current depth layer    \n",
    "    for x in L:\n",
    "        if type(x) != list:\n",
    "            tot += x #If its not a list, its a number: Add it up.\n",
    "        else:\n",
    "            [deeper_data.append(y) for y in x]\n",
    "            #Add nested items to our list of things to process later on\n",
    "            #Notice you're digging in a layer here by iterating \n",
    "            #through i which you know is a nested data structure from our conditional\n",
    "    if deeper_data != []:\n",
    "        return flat_list2(deeper_data, tot=tot)\n",
    "        # iterate if there is more data\n",
    "    else:\n",
    "        return tot"
   ]
  },
  {
   "cell_type": "code",
   "execution_count": 23,
   "metadata": {},
   "outputs": [
    {
     "name": "stdout",
     "output_type": "stream",
     "text": [
      "[1, [2, 3, 4], 5, [6, [7, 8], 9]]\n",
      "L:  [1, [2, 3, 4], 5, [6, [7, 8], 9]]\n",
      "[2, 3, 4, 6, [7, 8], 9]\n",
      "L:  [2, 3, 4, 6, [7, 8], 9]\n",
      "[7, 8]\n",
      "L:  [7, 8]\n"
     ]
    },
    {
     "data": {
      "text/plain": [
       "45"
      ]
     },
     "execution_count": 23,
     "metadata": {},
     "output_type": "execute_result"
    }
   ],
   "source": [
    "L = [1,[2,3,4],5,[6,[7,8],9]]\n",
    "flat_list2(L)"
   ]
  },
  {
   "cell_type": "markdown",
   "metadata": {},
   "source": [
    "## Summary\n",
    "Well done! Recursive functions are an advanced topic in Python and you got some good practice tackling classic problems here."
   ]
  }
 ],
 "metadata": {
  "kernelspec": {
   "display_name": "Python 3",
   "language": "python",
   "name": "python3"
  },
  "language_info": {
   "codemirror_mode": {
    "name": "ipython",
    "version": 3
   },
   "file_extension": ".py",
   "mimetype": "text/x-python",
   "name": "python",
   "nbconvert_exporter": "python",
   "pygments_lexer": "ipython3",
   "version": "3.6.9"
  },
  "toc": {
   "base_numbering": 1,
   "nav_menu": {},
   "number_sections": true,
   "sideBar": true,
   "skip_h1_title": false,
   "title_cell": "Table of Contents",
   "title_sidebar": "Contents",
   "toc_cell": false,
   "toc_position": {},
   "toc_section_display": true,
   "toc_window_display": false
  },
  "varInspector": {
   "cols": {
    "lenName": 16,
    "lenType": 16,
    "lenVar": 40
   },
   "kernels_config": {
    "python": {
     "delete_cmd_postfix": "",
     "delete_cmd_prefix": "del ",
     "library": "var_list.py",
     "varRefreshCmd": "print(var_dic_list())"
    },
    "r": {
     "delete_cmd_postfix": ") ",
     "delete_cmd_prefix": "rm(",
     "library": "var_list.r",
     "varRefreshCmd": "cat(var_dic_list()) "
    }
   },
   "types_to_exclude": [
    "module",
    "function",
    "builtin_function_or_method",
    "instance",
    "_Feature"
   ],
   "window_display": false
  }
 },
 "nbformat": 4,
 "nbformat_minor": 2
}
